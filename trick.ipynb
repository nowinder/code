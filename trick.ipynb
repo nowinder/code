{
 "cells": [
  {
   "cell_type": "code",
   "execution_count": null,
   "id": "fa0391a6-b927-4086-a6fe-ef289d778ef4",
   "metadata": {
    "editable": true,
    "slideshow": {
     "slide_type": ""
    },
    "tags": []
   },
   "outputs": [],
   "source": [
    "# 不递归的删除指定文件夹下后缀文件\n",
    "import os\n",
    "path = '/data/caizhizheng/2D/v2/'\n",
    "file = os.listdir(path)\n",
    "for file in file:\n",
    "    file_raw = path + file\n",
    "    if os.path.isfile(file_raw):\n",
    "        if file.endswith('.tif'):\n",
    "            os.remove(file_raw)"
   ]
  }
 ],
 "metadata": {
  "kernelspec": {
   "display_name": "Python 3",
   "language": "python",
   "name": "python3"
  },
  "language_info": {
   "codemirror_mode": {
    "name": "ipython",
    "version": 3
   },
   "file_extension": ".py",
   "mimetype": "text/x-python",
   "name": "python",
   "nbconvert_exporter": "python",
   "pygments_lexer": "ipython3",
   "version": "3.8.10"
  }
 },
 "nbformat": 4,
 "nbformat_minor": 5
}
