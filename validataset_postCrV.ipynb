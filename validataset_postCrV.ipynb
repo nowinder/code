{
 "cells": [
  {
   "cell_type": "code",
   "execution_count": 2,
   "id": "e920e6b3-98a1-4136-90e1-f1b91934107e",
   "metadata": {},
   "outputs": [],
   "source": [
    "# 解压文件\n",
    "import shutil\n",
    "\n",
    "zip_path = '/data/caizhizheng/2D/validataset2/CrVpost2.zip'\n",
    "save_path = '/data/caizhizheng/2D/validataset2/'\n",
    "\n",
    "shutil.unpack_archive(zip_path,save_path,'zip')"
   ]
  },
  {
   "cell_type": "code",
   "execution_count": null,
   "id": "64fc4871-dccd-42aa-b297-80e2e075932d",
   "metadata": {},
   "outputs": [],
   "source": [
    "# %load Vali_filterd.py"
   ]
  },
  {
   "cell_type": "code",
   "execution_count": 3,
   "id": "b0b9a239-1c66-4877-9e37-ffdbd6b85a34",
   "metadata": {},
   "outputs": [
    {
     "name": "stdout",
     "output_type": "stream",
     "text": [
      "zip OK\n"
     ]
    }
   ],
   "source": [
    "import zipfile\n",
    "output_dir = '/data/caizhizheng/2D/validataset/predict2/'\n",
    "output_name = '/data/caizhizheng/2D/validataset/' + 'vali-filterd2.zip'\n",
    "make_zip(source_dir=output_dir, output_name=output_name)\n",
    "print(\"zip OK\")"
   ]
  },
  {
   "cell_type": "code",
   "execution_count": 1,
   "id": "29ca9eb9-4ef9-4761-a0f8-ed4db894f5f8",
   "metadata": {},
   "outputs": [
    {
     "name": "stdout",
     "output_type": "stream",
     "text": [
      "平均汉明距离为：172.1461\n",
      "平均杰卡德相似系数为：0.9224\n",
      "平均Dice相似系数为：0.9538\n",
      "平均误差为：23.4262%\n"
     ]
    }
   ],
   "source": [
    "import os\n",
    "import numpy as np\n",
    "import evalu\n",
    "save_path = '/data/caizhizheng/2D/validataset/'\n",
    "label_path = save_path + 'label/'\n",
    "data_path = save_path + 'data/'\n",
    "output_path = save_path + 'predict/'\n",
    "label = os.listdir(label_path)\n",
    "number = []\n",
    "for f in label:\n",
    "     number.append(f.split('.')[0])\n",
    "number = np.array(number, dtype=int)\n",
    "name = 'error' + '_postCrV' + '.csv'\n",
    "evalu.main(output_dir=output_path, label_dir=label_path, name=name, oder=number)"
   ]
  },
  {
   "cell_type": "code",
   "execution_count": 13,
   "id": "f8742df7-e219-4903-ac57-e7c8f1b9c2bd",
   "metadata": {},
   "outputs": [
    {
     "data": {
      "text/plain": [
       "True"
      ]
     },
     "execution_count": 13,
     "metadata": {},
     "output_type": "execute_result"
    }
   ],
   "source": [
    "number.all()"
   ]
  },
  {
   "cell_type": "code",
   "execution_count": null,
   "id": "d06fabff-f421-4e0d-a20c-bfa39eda7b16",
   "metadata": {},
   "outputs": [],
   "source": [
    "# len(number)\n",
    "for j in range(0, len(number)):\n",
    "    print((j,number[j]))\n",
    "    # print(number[j])"
   ]
  },
  {
   "cell_type": "code",
   "execution_count": null,
   "id": "6b24c799-e250-4237-a3db-c28bb0fe1f92",
   "metadata": {},
   "outputs": [],
   "source": [
    "def getimg(dir, oder, j):\n",
    "input_dir = dir\n",
    "img_list = []\n",
    "for i in oder:\n",
    "    filename = f'{i+j}.tif'\n",
    "    img_path = os.path.join(input_dir,filename)\n",
    "    img = imageio.imread(img_path)\n",
    "    img = img.astype(np.float32)\n",
    "    img = img / 255.0\n",
    "    img_list.append(img)\n",
    "    print(i)\n",
    "return img_list\n",
    "\n"
   ]
  },
  {
   "cell_type": "code",
   "execution_count": 36,
   "id": "1f9a99a1-5fcb-463b-9ebb-0d773ce9ab7f",
   "metadata": {},
   "outputs": [
    {
     "data": {
      "text/plain": [
       "(876, 128, 128)"
      ]
     },
     "execution_count": 36,
     "metadata": {},
     "output_type": "execute_result"
    }
   ],
   "source": [
    "np.array(img_list).shape"
   ]
  },
  {
   "cell_type": "code",
   "execution_count": null,
   "id": "7c0ae3d9-22f1-4147-894e-def74c6f571e",
   "metadata": {},
   "outputs": [],
   "source": []
  }
 ],
 "metadata": {
  "kernelspec": {
   "display_name": "Python 3.8 (XPython)",
   "language": "python",
   "name": "xpython"
  },
  "language_info": {
   "file_extension": ".py",
   "mimetype": "text/x-python",
   "name": "python",
   "version": "3.8.16"
  }
 },
 "nbformat": 4,
 "nbformat_minor": 5
}
